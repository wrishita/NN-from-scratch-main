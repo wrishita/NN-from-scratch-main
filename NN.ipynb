{
 "cells": [
  {
   "cell_type": "markdown",
   "metadata": {},
   "source": [
    "## Import Libraries"
   ]
  },
  {
   "cell_type": "code",
   "execution_count": 34,
   "metadata": {},
   "outputs": [],
   "source": [
    "import pandas as pd\n",
    "import numpy as np\n",
    "import matplotlib.pyplot as plt"
   ]
  },
  {
   "cell_type": "markdown",
   "metadata": {},
   "source": [
    "## Data Processing"
   ]
  },
  {
   "cell_type": "code",
   "execution_count": 49,
   "metadata": {},
   "outputs": [],
   "source": [
    "data = pd.read_csv(\"./dataset/train.csv\")\n",
    "data = np.array(data)\n",
    "\n",
    "np.random.shuffle(data)"
   ]
  },
  {
   "cell_type": "code",
   "execution_count": 50,
   "metadata": {},
   "outputs": [
    {
     "data": {
      "text/plain": [
       "array([[8, 0, 0, ..., 0, 0, 0],\n",
       "       [8, 0, 0, ..., 0, 0, 0],\n",
       "       [4, 0, 0, ..., 0, 0, 0],\n",
       "       ...,\n",
       "       [6, 0, 0, ..., 0, 0, 0],\n",
       "       [1, 0, 0, ..., 0, 0, 0],\n",
       "       [3, 0, 0, ..., 0, 0, 0]], shape=(42000, 785))"
      ]
     },
     "execution_count": 50,
     "metadata": {},
     "output_type": "execute_result"
    }
   ],
   "source": [
    "data"
   ]
  },
  {
   "cell_type": "code",
   "execution_count": 51,
   "metadata": {},
   "outputs": [],
   "source": [
    "rows, cols = data.shape\n",
    "data_dev = data[:2000].T\n",
    "x_dev = data_dev[1:cols] / 255.0\n",
    "y_dev = data_dev[0]\n",
    "\n",
    "data_train = data[2000:].T\n",
    "x_train = data_train[1:cols] / 255.0\n",
    "y_train = data_train[0]"
   ]
  },
  {
   "cell_type": "markdown",
   "metadata": {},
   "source": [
    "## Parameter Initalization "
   ]
  },
  {
   "cell_type": "code",
   "execution_count": 52,
   "metadata": {},
   "outputs": [],
   "source": [
    "def init_param():\n",
    "    w1 = np.random.randn(10, 784) * np.sqrt(2. / 784)\n",
    "    b1 = np.zeros((10, 1))\n",
    "    w2 = np.random.randn(10, 10) * np.sqrt(2. / 10)\n",
    "    b2 = np.zeros((10, 1))\n",
    "    return w1, b1, w2, b2"
   ]
  },
  {
   "cell_type": "markdown",
   "metadata": {},
   "source": [
    "## Activation Functions"
   ]
  },
  {
   "cell_type": "code",
   "execution_count": 53,
   "metadata": {},
   "outputs": [],
   "source": [
    "def leaky_relu(x, alpha=0.01):\n",
    "    return np.where(x > 0, x, alpha * x)\n",
    "\n",
    "\n",
    "def Softmax(x):\n",
    "    exps = np.exp(x - np.max(x, axis=0, keepdims=True))\n",
    "    return exps / np.sum(exps, axis=0, keepdims=True)\n"
   ]
  },
  {
   "cell_type": "markdown",
   "metadata": {},
   "source": [
    "## Activation Function Derivative"
   ]
  },
  {
   "cell_type": "code",
   "execution_count": 54,
   "metadata": {},
   "outputs": [],
   "source": [
    "def leaky_relu_derivative(x, alpha=0.01):\n",
    "    dx = np.ones_like(x)\n",
    "    dx[x < 0] = alpha\n",
    "    return dx"
   ]
  },
  {
   "cell_type": "markdown",
   "metadata": {},
   "source": [
    "## Forward Propagation"
   ]
  },
  {
   "cell_type": "code",
   "execution_count": 55,
   "metadata": {},
   "outputs": [],
   "source": [
    "def forward_prop(w1, b1, w2, b2, x):\n",
    "    z1 = w1.dot(x) + b1\n",
    "    a1 = leaky_relu(z1)\n",
    "    z2 = w2.dot(a1) + b2\n",
    "    a2 = Softmax(z2)\n",
    "    return z1, a1, z2, a2"
   ]
  },
  {
   "cell_type": "markdown",
   "metadata": {},
   "source": [
    "## Backward Propagation"
   ]
  },
  {
   "cell_type": "code",
   "execution_count": 56,
   "metadata": {},
   "outputs": [],
   "source": [
    "\n",
    "def one_hot(y):\n",
    "    one_hot_y = np.zeros((y.size, int(y.max()) + 1))\n",
    "    one_hot_y[np.arange(y.size), y] = 1\n",
    "    return one_hot_y.T\n",
    "\n",
    "\n",
    "def backward_prop(z1, a1, z2, a2, w2, x, y):\n",
    "    m = y.size\n",
    "    hot_y = one_hot(y)\n",
    "    dz2 = a2 - hot_y\n",
    "    dw2 = (1/m) * dz2.dot(a1.T)\n",
    "    db2 = (1/m) * np.sum(dz2, axis=1, keepdims=True)\n",
    "    dz1 = w2.T.dot(dz2) * leaky_relu_derivative(z1)\n",
    "    dw1 = (1/m) * dz1.dot(x.T)\n",
    "    db1 = (1/m) * np.sum(dz1, axis=1, keepdims=True)\n",
    "    return dw1, db1, dw2, db2"
   ]
  },
  {
   "cell_type": "markdown",
   "metadata": {},
   "source": [
    "## Weights Updation"
   ]
  },
  {
   "cell_type": "code",
   "execution_count": 57,
   "metadata": {},
   "outputs": [],
   "source": [
    "def update_params(w1, b1, w2, b2, dw1, db1, dw2, db2, alpha):\n",
    "    w1 -= alpha * dw1\n",
    "    b1 -= alpha * db1\n",
    "    w2 -= alpha * dw2\n",
    "    b2 -= alpha * db2\n",
    "    return w1, b1, w2, b2"
   ]
  },
  {
   "cell_type": "markdown",
   "metadata": {},
   "source": [
    "## Gradient Descent"
   ]
  },
  {
   "cell_type": "code",
   "execution_count": 58,
   "metadata": {},
   "outputs": [],
   "source": [
    "def get_pred(a2):\n",
    "    return np.argmax(a2, axis=0)\n",
    "\n",
    "def get_accuracy(pred, y):\n",
    "    return np.mean(pred == y)\n",
    "\n",
    "def compute_loss(a2, y):\n",
    "    m = y.size\n",
    "    log_likelihood = -np.log(a2[y, np.arange(m)])\n",
    "    loss = np.sum(log_likelihood) / m\n",
    "    return loss\n",
    "\n",
    "\n",
    "def gradient_descent(x, y, alpha, iterations):\n",
    "    \n",
    "    w1, b1, w2, b2 = init_param()\n",
    "    losses = []    \n",
    "    accuracies = []\n",
    "    \n",
    "    for i in range(iterations):\n",
    "        z1, a1, z2, a2 = forward_prop(w1, b1, w2, b2, x)\n",
    "        loss = compute_loss(a2, y)  \n",
    "        dw1, db1, dw2, db2 = backward_prop(z1, a1, z2, a2, w2, x, y)\n",
    "        w1, b1, w2, b2 = update_params(w1, b1, w2, b2, dw1, db1, dw2, db2, alpha)\n",
    "        if i % 10 == 0:\n",
    "            predictions = get_pred(a2)\n",
    "            accuracy = get_accuracy(predictions, y)\n",
    "            print(f\"Iteration {i}, Accuracy: {accuracy * 100:.2f}%\")\n",
    "            \n",
    "            losses.append(loss)           \n",
    "            accuracies.append(accuracy)   \n",
    "            \n",
    "    return w1, b1, w2, b2, losses, accuracies"
   ]
  },
  {
   "cell_type": "markdown",
   "metadata": {},
   "source": [
    "## Training"
   ]
  },
  {
   "cell_type": "code",
   "execution_count": 60,
   "metadata": {},
   "outputs": [
    {
     "name": "stdout",
     "output_type": "stream",
     "text": [
      "Iteration 0, Accuracy: 11.82%\n",
      "Iteration 10, Accuracy: 42.93%\n",
      "Iteration 20, Accuracy: 56.88%\n",
      "Iteration 30, Accuracy: 68.86%\n",
      "Iteration 40, Accuracy: 75.27%\n",
      "Iteration 50, Accuracy: 79.43%\n",
      "Iteration 60, Accuracy: 81.68%\n",
      "Iteration 70, Accuracy: 82.99%\n",
      "Iteration 80, Accuracy: 83.88%\n",
      "Iteration 90, Accuracy: 84.58%\n",
      "Iteration 100, Accuracy: 85.15%\n",
      "Iteration 110, Accuracy: 85.64%\n",
      "Iteration 120, Accuracy: 86.05%\n",
      "Iteration 130, Accuracy: 86.40%\n",
      "Iteration 140, Accuracy: 86.66%\n",
      "Iteration 150, Accuracy: 86.97%\n",
      "Iteration 160, Accuracy: 87.26%\n",
      "Iteration 170, Accuracy: 87.58%\n",
      "Iteration 180, Accuracy: 87.82%\n",
      "Iteration 190, Accuracy: 88.00%\n",
      "Iteration 200, Accuracy: 88.21%\n",
      "Iteration 210, Accuracy: 88.41%\n",
      "Iteration 220, Accuracy: 88.54%\n",
      "Iteration 230, Accuracy: 88.72%\n",
      "Iteration 240, Accuracy: 88.87%\n",
      "Iteration 250, Accuracy: 88.99%\n",
      "Iteration 260, Accuracy: 89.16%\n",
      "Iteration 270, Accuracy: 89.30%\n",
      "Iteration 280, Accuracy: 89.39%\n",
      "Iteration 290, Accuracy: 89.48%\n",
      "Iteration 300, Accuracy: 89.54%\n",
      "Iteration 310, Accuracy: 89.66%\n",
      "Iteration 320, Accuracy: 89.72%\n",
      "Iteration 330, Accuracy: 89.84%\n",
      "Iteration 340, Accuracy: 89.88%\n",
      "Iteration 350, Accuracy: 89.94%\n",
      "Iteration 360, Accuracy: 90.03%\n",
      "Iteration 370, Accuracy: 90.10%\n",
      "Iteration 380, Accuracy: 90.17%\n",
      "Iteration 390, Accuracy: 90.22%\n",
      "Iteration 400, Accuracy: 90.30%\n",
      "Iteration 410, Accuracy: 90.35%\n",
      "Iteration 420, Accuracy: 90.42%\n",
      "Iteration 430, Accuracy: 90.49%\n",
      "Iteration 440, Accuracy: 90.52%\n",
      "Iteration 450, Accuracy: 90.58%\n",
      "Iteration 460, Accuracy: 90.62%\n",
      "Iteration 470, Accuracy: 90.64%\n",
      "Iteration 480, Accuracy: 90.67%\n",
      "Iteration 490, Accuracy: 90.72%\n",
      "Iteration 500, Accuracy: 90.79%\n",
      "Iteration 510, Accuracy: 90.82%\n",
      "Iteration 520, Accuracy: 90.84%\n",
      "Iteration 530, Accuracy: 90.90%\n",
      "Iteration 540, Accuracy: 90.94%\n",
      "Iteration 550, Accuracy: 90.95%\n",
      "Iteration 560, Accuracy: 91.00%\n",
      "Iteration 570, Accuracy: 91.03%\n",
      "Iteration 580, Accuracy: 91.07%\n",
      "Iteration 590, Accuracy: 91.11%\n",
      "Iteration 600, Accuracy: 91.15%\n",
      "Iteration 610, Accuracy: 91.20%\n",
      "Iteration 620, Accuracy: 91.22%\n",
      "Iteration 630, Accuracy: 91.27%\n",
      "Iteration 640, Accuracy: 91.30%\n",
      "Iteration 650, Accuracy: 91.34%\n",
      "Iteration 660, Accuracy: 91.36%\n",
      "Iteration 670, Accuracy: 91.37%\n",
      "Iteration 680, Accuracy: 91.40%\n",
      "Iteration 690, Accuracy: 91.41%\n",
      "Iteration 700, Accuracy: 91.46%\n",
      "Iteration 710, Accuracy: 91.47%\n",
      "Iteration 720, Accuracy: 91.50%\n",
      "Iteration 730, Accuracy: 91.52%\n",
      "Iteration 740, Accuracy: 91.54%\n",
      "Iteration 750, Accuracy: 91.55%\n",
      "Iteration 760, Accuracy: 91.57%\n",
      "Iteration 770, Accuracy: 91.60%\n",
      "Iteration 780, Accuracy: 91.61%\n",
      "Iteration 790, Accuracy: 91.62%\n",
      "Iteration 800, Accuracy: 91.65%\n",
      "Iteration 810, Accuracy: 91.68%\n",
      "Iteration 820, Accuracy: 91.70%\n",
      "Iteration 830, Accuracy: 91.72%\n",
      "Iteration 840, Accuracy: 91.75%\n",
      "Iteration 850, Accuracy: 91.77%\n",
      "Iteration 860, Accuracy: 91.78%\n",
      "Iteration 870, Accuracy: 91.80%\n",
      "Iteration 880, Accuracy: 91.82%\n",
      "Iteration 890, Accuracy: 91.84%\n",
      "Iteration 900, Accuracy: 91.87%\n",
      "Iteration 910, Accuracy: 91.89%\n",
      "Iteration 920, Accuracy: 91.89%\n",
      "Iteration 930, Accuracy: 91.92%\n",
      "Iteration 940, Accuracy: 91.95%\n",
      "Iteration 950, Accuracy: 91.98%\n",
      "Iteration 960, Accuracy: 92.02%\n",
      "Iteration 970, Accuracy: 92.03%\n",
      "Iteration 980, Accuracy: 92.05%\n",
      "Iteration 990, Accuracy: 92.06%\n",
      "Iteration 1000, Accuracy: 92.07%\n",
      "Iteration 1010, Accuracy: 92.08%\n",
      "Iteration 1020, Accuracy: 92.10%\n",
      "Iteration 1030, Accuracy: 92.12%\n",
      "Iteration 1040, Accuracy: 92.13%\n",
      "Iteration 1050, Accuracy: 92.17%\n",
      "Iteration 1060, Accuracy: 92.19%\n",
      "Iteration 1070, Accuracy: 92.20%\n",
      "Iteration 1080, Accuracy: 92.22%\n",
      "Iteration 1090, Accuracy: 92.23%\n",
      "Iteration 1100, Accuracy: 92.25%\n",
      "Iteration 1110, Accuracy: 92.27%\n",
      "Iteration 1120, Accuracy: 92.27%\n",
      "Iteration 1130, Accuracy: 92.30%\n",
      "Iteration 1140, Accuracy: 92.31%\n",
      "Iteration 1150, Accuracy: 92.33%\n",
      "Iteration 1160, Accuracy: 92.33%\n",
      "Iteration 1170, Accuracy: 92.35%\n",
      "Iteration 1180, Accuracy: 92.36%\n",
      "Iteration 1190, Accuracy: 92.36%\n",
      "Iteration 1200, Accuracy: 92.36%\n",
      "Iteration 1210, Accuracy: 92.38%\n",
      "Iteration 1220, Accuracy: 92.39%\n",
      "Iteration 1230, Accuracy: 92.41%\n",
      "Iteration 1240, Accuracy: 92.42%\n",
      "Iteration 1250, Accuracy: 92.43%\n",
      "Iteration 1260, Accuracy: 92.44%\n",
      "Iteration 1270, Accuracy: 92.46%\n",
      "Iteration 1280, Accuracy: 92.47%\n",
      "Iteration 1290, Accuracy: 92.48%\n",
      "Iteration 1300, Accuracy: 92.49%\n",
      "Iteration 1310, Accuracy: 92.50%\n",
      "Iteration 1320, Accuracy: 92.52%\n",
      "Iteration 1330, Accuracy: 92.52%\n",
      "Iteration 1340, Accuracy: 92.53%\n",
      "Iteration 1350, Accuracy: 92.53%\n",
      "Iteration 1360, Accuracy: 92.54%\n",
      "Iteration 1370, Accuracy: 92.55%\n",
      "Iteration 1380, Accuracy: 92.57%\n",
      "Iteration 1390, Accuracy: 92.58%\n",
      "Iteration 1400, Accuracy: 92.58%\n",
      "Iteration 1410, Accuracy: 92.59%\n",
      "Iteration 1420, Accuracy: 92.60%\n",
      "Iteration 1430, Accuracy: 92.62%\n",
      "Iteration 1440, Accuracy: 92.62%\n",
      "Iteration 1450, Accuracy: 92.64%\n",
      "Iteration 1460, Accuracy: 92.65%\n",
      "Iteration 1470, Accuracy: 92.67%\n",
      "Iteration 1480, Accuracy: 92.67%\n",
      "Iteration 1490, Accuracy: 92.69%\n",
      "Iteration 1500, Accuracy: 92.70%\n",
      "Iteration 1510, Accuracy: 92.70%\n",
      "Iteration 1520, Accuracy: 92.70%\n",
      "Iteration 1530, Accuracy: 92.71%\n",
      "Iteration 1540, Accuracy: 92.72%\n",
      "Iteration 1550, Accuracy: 92.73%\n",
      "Iteration 1560, Accuracy: 92.73%\n",
      "Iteration 1570, Accuracy: 92.75%\n",
      "Iteration 1580, Accuracy: 92.75%\n",
      "Iteration 1590, Accuracy: 92.75%\n",
      "Iteration 1600, Accuracy: 92.76%\n",
      "Iteration 1610, Accuracy: 92.77%\n",
      "Iteration 1620, Accuracy: 92.79%\n",
      "Iteration 1630, Accuracy: 92.80%\n",
      "Iteration 1640, Accuracy: 92.81%\n",
      "Iteration 1650, Accuracy: 92.81%\n",
      "Iteration 1660, Accuracy: 92.82%\n",
      "Iteration 1670, Accuracy: 92.84%\n",
      "Iteration 1680, Accuracy: 92.84%\n",
      "Iteration 1690, Accuracy: 92.85%\n",
      "Iteration 1700, Accuracy: 92.86%\n",
      "Iteration 1710, Accuracy: 92.86%\n",
      "Iteration 1720, Accuracy: 92.87%\n",
      "Iteration 1730, Accuracy: 92.88%\n",
      "Iteration 1740, Accuracy: 92.88%\n",
      "Iteration 1750, Accuracy: 92.88%\n",
      "Iteration 1760, Accuracy: 92.88%\n",
      "Iteration 1770, Accuracy: 92.89%\n",
      "Iteration 1780, Accuracy: 92.90%\n",
      "Iteration 1790, Accuracy: 92.91%\n",
      "Iteration 1800, Accuracy: 92.92%\n",
      "Iteration 1810, Accuracy: 92.92%\n",
      "Iteration 1820, Accuracy: 92.93%\n",
      "Iteration 1830, Accuracy: 92.94%\n",
      "Iteration 1840, Accuracy: 92.95%\n",
      "Iteration 1850, Accuracy: 92.96%\n",
      "Iteration 1860, Accuracy: 92.97%\n",
      "Iteration 1870, Accuracy: 92.97%\n",
      "Iteration 1880, Accuracy: 92.99%\n",
      "Iteration 1890, Accuracy: 92.99%\n",
      "Iteration 1900, Accuracy: 93.00%\n",
      "Iteration 1910, Accuracy: 93.02%\n",
      "Iteration 1920, Accuracy: 93.03%\n",
      "Iteration 1930, Accuracy: 93.04%\n",
      "Iteration 1940, Accuracy: 93.05%\n",
      "Iteration 1950, Accuracy: 93.06%\n",
      "Iteration 1960, Accuracy: 93.06%\n",
      "Iteration 1970, Accuracy: 93.07%\n",
      "Iteration 1980, Accuracy: 93.09%\n",
      "Iteration 1990, Accuracy: 93.09%\n"
     ]
    }
   ],
   "source": [
    "\n",
    "w1, b1, w2, b2, losses, accuracies = gradient_descent(x_train, y_train, 0.2, 2000)"
   ]
  },
  {
   "cell_type": "markdown",
   "metadata": {},
   "source": [
    "## Loss and Accuracy Curve"
   ]
  },
  {
   "cell_type": "code",
   "execution_count": 61,
   "metadata": {},
   "outputs": [],
   "source": [
    "def plot_training_curves(losses, accuracies, interval=10):\n",
    "    iterations = range(0, len(losses) * interval, interval)\n",
    "    \n",
    "    plt.figure(figsize=(12,5))\n",
    "\n",
    "    plt.subplot(1,2,1)\n",
    "    plt.plot(iterations, losses, label='Loss', color='red')\n",
    "    plt.xlabel('Iteration')\n",
    "    plt.ylabel('Loss')\n",
    "    plt.title('Loss Curve')\n",
    "    plt.grid(True)\n",
    "    plt.legend()\n",
    "\n",
    "    plt.subplot(1,2,2)\n",
    "    plt.plot(iterations, [a * 100 for a in accuracies], label='Accuracy', color='blue')\n",
    "    plt.xlabel('Iteration')\n",
    "    plt.ylabel('Accuracy (%)')\n",
    "    plt.title('Accuracy Curve')\n",
    "    plt.grid(True)\n",
    "    plt.legend()\n",
    "\n",
    "    plt.tight_layout()\n",
    "    plt.show()\n"
   ]
  },
  {
   "cell_type": "code",
   "execution_count": 62,
   "metadata": {},
   "outputs": [
    {
     "data": {
      "image/png": "[encoded data removed]",
      "text/plain": [
       "<Figure size 1200x500 with 2 Axes>"
      ]
     },
     "metadata": {},
     "output_type": "display_data"
    }
   ],
   "source": [
    "plot_training_curves(losses, accuracies)"
   ]
  },
  {
   "cell_type": "markdown",
   "metadata": {},
   "source": [
    "## Prediction"
   ]
  },
  {
   "cell_type": "code",
   "execution_count": 63,
   "metadata": {},
   "outputs": [],
   "source": [
    "def make_predictions(x,w1,b1,w2,b2):\n",
    "    _,_,_,a2 = forward_prop(w1,b1,w2,b2,x)\n",
    "    return get_pred(a2)\n",
    "\n",
    "def test_pred(index,w1,b1,w2,b2):\n",
    "    current_img = x_train[:,index,None]\n",
    "    output = make_predictions(x_train[:,index,None],w1,b1,w2,b2)\n",
    "    label = y_train[index]\n",
    "    print(\"Predication :\" ,output)\n",
    "    print(\"label : \", label)\n",
    "    \n",
    "    \n",
    "    current_img = current_img.reshape(28,28) * 255\n",
    "    plt.gray()\n",
    "    plt.imshow(current_img,interpolation = \"nearest\")\n",
    "    plt.show()"
   ]
  },
  {
   "cell_type": "code",
   "execution_count": null,
   "metadata": {},
   "outputs": [
    {
     "name": "stdout",
     "output_type": "stream",
     "text": [
      "Predication : [4]\n",
      "label :  4\n"
     ]
    },
    {
     "data": {
      "image/png": "[encoded data removed]",
      "text/plain": [
       "<Figure size 640x480 with 1 Axes>"
      ]
     },
     "metadata": {},
     "output_type": "display_data"
    }
   ],
   "source": [
    "test_pred(1090,w1,b1,w2,b2)\n"
   ]
  },
  {
   "cell_type": "markdown",
   "metadata": {},
   "source": [
    "## Performace"
   ]
  },
  {
   "cell_type": "code",
   "execution_count": 64,
   "metadata": {},
   "outputs": [],
   "source": [
    "dev_pred = make_predictions(x_dev,w1,b1,w2,b2)\n",
    "dev_acc = get_accuracy(dev_pred, y_dev)\n"
   ]
  },
  {
   "cell_type": "code",
   "execution_count": 65,
   "metadata": {},
   "outputs": [
    {
     "name": "stdout",
     "output_type": "stream",
     "text": [
      "0.9235\n"
     ]
    }
   ],
   "source": [
    "print(dev_acc)"
   ]
  },
  {
   "cell_type": "code",
   "execution_count": null,
   "metadata": {},
   "outputs": [],
   "source": []
  }
 ],
 "metadata": {
  "kernelspec": {
   "display_name": "NN",
   "language": "python",
   "name": "python3"
  },
  "language_info": {
   "codemirror_mode": {
    "name": "ipython",
    "version": 3
   },
   "file_extension": ".py",
   "mimetype": "text/x-python",
   "name": "python",
   "nbconvert_exporter": "python",
   "pygments_lexer": "ipython3",
   "version": "3.12.0"
  }
 },
 "nbformat": 4,
 "nbformat_minor": 2
}
